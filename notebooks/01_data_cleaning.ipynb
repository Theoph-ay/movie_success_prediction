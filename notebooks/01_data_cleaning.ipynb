{
 "cells": [
  {
   "cell_type": "code",
   "execution_count": 14,
   "id": "7a08ba20",
   "metadata": {},
   "outputs": [],
   "source": [
    "#Start with importing the basic libraries for data cleaning python and numpy\n",
    "import pandas as pd\n",
    "import numpy as np\n",
    "pd.set_option(\"display.max_rows\", None)"
   ]
  },
  {
   "cell_type": "code",
   "execution_count": 16,
   "id": "d34cdefc",
   "metadata": {},
   "outputs": [
    {
     "data": {
      "text/html": [
       "<div>\n",
       "<style scoped>\n",
       "    .dataframe tbody tr th:only-of-type {\n",
       "        vertical-align: middle;\n",
       "    }\n",
       "\n",
       "    .dataframe tbody tr th {\n",
       "        vertical-align: top;\n",
       "    }\n",
       "\n",
       "    .dataframe thead th {\n",
       "        text-align: right;\n",
       "    }\n",
       "</style>\n",
       "<table border=\"1\" class=\"dataframe\">\n",
       "  <thead>\n",
       "    <tr style=\"text-align: right;\">\n",
       "      <th></th>\n",
       "      <th>title</th>\n",
       "      <th>year</th>\n",
       "      <th>duration</th>\n",
       "      <th>certification</th>\n",
       "      <th>ratings</th>\n",
       "      <th>rating_votes_count</th>\n",
       "      <th>genre</th>\n",
       "    </tr>\n",
       "  </thead>\n",
       "  <tbody>\n",
       "    <tr>\n",
       "      <th>0</th>\n",
       "      <td>Gekijô-ban Kimetsu no Yaiba Mugen Jô-hen</td>\n",
       "      <td>2025</td>\n",
       "      <td>2h 35m</td>\n",
       "      <td>R</td>\n",
       "      <td>8.6</td>\n",
       "      <td>31K</td>\n",
       "      <td>Action</td>\n",
       "    </tr>\n",
       "    <tr>\n",
       "      <th>1</th>\n",
       "      <td>Peacemaker</td>\n",
       "      <td>2022–</td>\n",
       "      <td>TV-MA</td>\n",
       "      <td>TV Series</td>\n",
       "      <td>8.3</td>\n",
       "      <td>166K</td>\n",
       "      <td>Action</td>\n",
       "    </tr>\n",
       "    <tr>\n",
       "      <th>2</th>\n",
       "      <td>The Terminal List: Dark Wolf</td>\n",
       "      <td>2025–</td>\n",
       "      <td>TV-MA</td>\n",
       "      <td>TV Series</td>\n",
       "      <td>7.8</td>\n",
       "      <td>8.4K</td>\n",
       "      <td>Action</td>\n",
       "    </tr>\n",
       "    <tr>\n",
       "      <th>3</th>\n",
       "      <td>The Naked Gun</td>\n",
       "      <td>2025</td>\n",
       "      <td>1h 25m</td>\n",
       "      <td>PG-13</td>\n",
       "      <td>6.6</td>\n",
       "      <td>61K</td>\n",
       "      <td>Action</td>\n",
       "    </tr>\n",
       "    <tr>\n",
       "      <th>4</th>\n",
       "      <td>One Battle After Another</td>\n",
       "      <td>2025</td>\n",
       "      <td>2h 41m</td>\n",
       "      <td>R</td>\n",
       "      <td>NaN</td>\n",
       "      <td>NaN</td>\n",
       "      <td>Action</td>\n",
       "    </tr>\n",
       "  </tbody>\n",
       "</table>\n",
       "</div>"
      ],
      "text/plain": [
       "                                      title   year duration certification  \\\n",
       "0  Gekijô-ban Kimetsu no Yaiba Mugen Jô-hen   2025   2h 35m             R   \n",
       "1                                Peacemaker  2022–    TV-MA     TV Series   \n",
       "2              The Terminal List: Dark Wolf  2025–    TV-MA     TV Series   \n",
       "3                             The Naked Gun   2025   1h 25m         PG-13   \n",
       "4                  One Battle After Another   2025   2h 41m             R   \n",
       "\n",
       "   ratings rating_votes_count   genre  \n",
       "0      8.6                31K  Action  \n",
       "1      8.3               166K  Action  \n",
       "2      7.8               8.4K  Action  \n",
       "3      6.6                61K  Action  \n",
       "4      NaN                NaN  Action  "
      ]
     },
     "execution_count": 16,
     "metadata": {},
     "output_type": "execute_result"
    }
   ],
   "source": [
    "#Read the csv\n",
    "#You can put r before the  file path, so that python can treat the backslashes as raw and not escape\n",
    "#Or use double backslashes or use forard slashes\n",
    "file = r\"C:\\Users\\HP\\Desktop\\UI\\important\\Data Science\\movie-success-prediction\\data\\raw\\imdb_movies_final.csv\"\n",
    "df =  pd.read_csv(file)\n",
    "df.head()"
   ]
  },
  {
   "cell_type": "code",
   "execution_count": 17,
   "id": "07c72cdd",
   "metadata": {},
   "outputs": [
    {
     "name": "stdout",
     "output_type": "stream",
     "text": [
      "40500\n"
     ]
    }
   ],
   "source": [
    "print(len(df))"
   ]
  },
  {
   "cell_type": "code",
   "execution_count": 10,
   "id": "51b76815",
   "metadata": {},
   "outputs": [
    {
     "data": {
      "text/plain": [
       "np.int64(40056)"
      ]
     },
     "execution_count": 10,
     "metadata": {},
     "output_type": "execute_result"
    }
   ],
   "source": [
    "#check if there are duplicates, data was scraped from imdb and some might have been repeated.\n",
    "df.duplicated(subset = \"title\").sum()"
   ]
  }
 ],
 "metadata": {
  "kernelspec": {
   "display_name": "venv",
   "language": "python",
   "name": "python3"
  },
  "language_info": {
   "codemirror_mode": {
    "name": "ipython",
    "version": 3
   },
   "file_extension": ".py",
   "mimetype": "text/x-python",
   "name": "python",
   "nbconvert_exporter": "python",
   "pygments_lexer": "ipython3",
   "version": "3.13.2"
  }
 },
 "nbformat": 4,
 "nbformat_minor": 5
}
